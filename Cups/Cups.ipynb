{
 "cells": [
  {
   "cell_type": "code",
   "execution_count": 68,
   "metadata": {},
   "outputs": [
    {
     "data": {
      "text/plain": [
       "(141, 10011)"
      ]
     },
     "execution_count": 68,
     "metadata": {},
     "output_type": "execute_result"
    }
   ],
   "source": [
    "# 2 cups and n floors\n",
    "\n",
    "def min_attempts_2_cups_n_floors (n):\n",
    "    max_floor = 1\n",
    "    count = 1\n",
    "    while max_floor < n:\n",
    "        max_floor += count + 1\n",
    "        count+=1\n",
    "    return count, max_floor\n",
    "\n",
    "min_attempts_2_cups_n_floors(10000)"
   ]
  },
  {
   "cell_type": "code",
   "execution_count": 36,
   "metadata": {},
   "outputs": [],
   "source": [
    "# 1, 3, 6, 10 for 4 attempts using 2 cups\n",
    "# 11, 18, 22, 24 floors for throwing first cup if we have 3"
   ]
  },
  {
   "cell_type": "code",
   "execution_count": 70,
   "metadata": {},
   "outputs": [
    {
     "data": {
      "text/plain": [
       "(5, 25)"
      ]
     },
     "execution_count": 70,
     "metadata": {},
     "output_type": "execute_result"
    }
   ],
   "source": [
    "# 3 cups and n floors\n",
    "\n",
    "def min_attempts_3_cups_n_floors (n):\n",
    "    if(n <= 3):\n",
    "        return min_attempts_2_cups_n_floors(n)\n",
    "    \n",
    "    max_floor = 3\n",
    "    count = 2\n",
    "    temp = 1\n",
    "    while max_floor < n:\n",
    "        max_floor += min_attempts_2_cups_n_floors(temp+1)[1]+1\n",
    "        temp = min_attempts_2_cups_n_floors(temp+1)[1]\n",
    "        count+=1\n",
    "    return count, max_floor\n",
    "\n",
    "min_attempts_3_cups_n_floors(20)"
   ]
  },
  {
   "cell_type": "code",
   "execution_count": 38,
   "metadata": {},
   "outputs": [],
   "source": [
    "# 1, 3, 7, 14 for 4 attempts using 3 cups\n",
    "# 15, 23, 27, 29 floors for throwing first cup if we have 4"
   ]
  },
  {
   "cell_type": "code",
   "execution_count": 39,
   "metadata": {},
   "outputs": [
    {
     "data": {
      "text/plain": [
       "(4, 15)"
      ]
     },
     "execution_count": 39,
     "metadata": {},
     "output_type": "execute_result"
    }
   ],
   "source": [
    "# 4 cups and n floors\n",
    "\n",
    "def min_attempts_4_cups_n_floors (n):\n",
    "    if(n <= 7):\n",
    "        return min_attempts_3_cups_n_floors(n)\n",
    "    \n",
    "    max_floor = 3\n",
    "    count = 2\n",
    "    temp = 1\n",
    "    while max_floor < n:\n",
    "        max_floor += min_attempts_3_cups_n_floors(temp+1)[1]+1\n",
    "        temp = min_attempts_3_cups_n_floors(temp+1)[1]\n",
    "        count+=1\n",
    "    return count, max_floor\n",
    "\n",
    "min_attempts_4_cups_n_floors(8)"
   ]
  },
  {
   "cell_type": "code",
   "execution_count": 40,
   "metadata": {},
   "outputs": [],
   "source": [
    "# 1, 3, 7, 15 for 4 attempts using 4 cups\n",
    "# 16, 24, 28, 30 floors for throwing first cup if we have 5"
   ]
  },
  {
   "cell_type": "code",
   "execution_count": 71,
   "metadata": {},
   "outputs": [
    {
     "data": {
      "text/plain": [
       "(5, 31)"
      ]
     },
     "execution_count": 71,
     "metadata": {},
     "output_type": "execute_result"
    }
   ],
   "source": [
    "# 5 cups and n floors\n",
    "\n",
    "def min_attempts_5_cups_n_floors (n):\n",
    "    if(n <= 15):\n",
    "        return min_attempts_4_cups_n_floors(n)\n",
    "    \n",
    "    max_floor = 3\n",
    "    count = 2\n",
    "    temp = 1\n",
    "    while max_floor < n:\n",
    "        max_floor += min_attempts_4_cups_n_floors(temp+1)[1]+1\n",
    "        temp = min_attempts_4_cups_n_floors(temp+1)[1]\n",
    "        count+=1\n",
    "    return count, max_floor\n",
    "\n",
    "min_attempts_5_cups_n_floors(16)"
   ]
  },
  {
   "cell_type": "markdown",
   "metadata": {},
   "source": [
    "# Task"
   ]
  },
  {
   "cell_type": "code",
   "execution_count": 61,
   "metadata": {},
   "outputs": [
    {
     "name": "stdout",
     "output_type": "stream",
     "text": [
      "\n",
      "Minimum 14 attempts for 2 cups and 100 floors\n",
      "Minimum 9 attempts for 3 cups and 100 floors\n",
      "Minimum 11 attempts for 5 cups and 1000 floors\n",
      "\n"
     ]
    }
   ],
   "source": [
    "# 2 cups 100 floors\n",
    "min_attempts_2_100, _ = min_attempts_2_cups_n_floors(100)\n",
    "\n",
    "#3 cups 100 floors\n",
    "min_attempts_3_100, _ = min_attempts_3_cups_n_floors(100)\n",
    "\n",
    "#5 cups 1000 floors\n",
    "min_attempts_5_1000, _ = min_attempts_5_cups_n_floors(1000)\n",
    "\n",
    "print(\"\"\"\n",
    "Minimum {} attempts for 2 cups and 100 floors\n",
    "Minimum {} attempts for 3 cups and 100 floors\n",
    "Minimum {} attempts for 5 cups and 1000 floors\n",
    "\"\"\".format(min_attempts_2_100, min_attempts_3_100, min_attempts_5_1000))"
   ]
  }
 ],
 "metadata": {
  "kernelspec": {
   "display_name": "Python 3",
   "language": "python",
   "name": "python3"
  },
  "language_info": {
   "codemirror_mode": {
    "name": "ipython",
    "version": 3
   },
   "file_extension": ".py",
   "mimetype": "text/x-python",
   "name": "python",
   "nbconvert_exporter": "python",
   "pygments_lexer": "ipython3",
   "version": "3.7.6"
  }
 },
 "nbformat": 4,
 "nbformat_minor": 4
}
